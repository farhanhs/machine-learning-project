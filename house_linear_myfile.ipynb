{
  "nbformat": 4,
  "nbformat_minor": 0,
  "metadata": {
    "colab": {
      "name": "house_linear_myfile.ipynb",
      "provenance": [],
      "private_outputs": true,
      "collapsed_sections": [],
      "authorship_tag": "ABX9TyOFW2rtNGP+eIDQSB1Wz1+v",
      "include_colab_link": true
    },
    "kernelspec": {
      "name": "python3",
      "display_name": "Python 3"
    }
  },
  "cells": [
    {
      "cell_type": "markdown",
      "metadata": {
        "id": "view-in-github",
        "colab_type": "text"
      },
      "source": [
        "<a href=\"https://colab.research.google.com/github/farhanhs/machine-learning-project/blob/master/house_linear_myfile.ipynb\" target=\"_parent\"><img src=\"https://colab.research.google.com/assets/colab-badge.svg\" alt=\"Open In Colab\"/></a>"
      ]
    },
    {
      "cell_type": "code",
      "metadata": {
        "id": "tECyvIl9QZ9Y",
        "colab_type": "code",
        "colab": {}
      },
      "source": [
        "from scipy.stats import skew\n",
        "from scipy.stats import boxcox_normmax\n",
        "from scipy.special import boxcox1p\n",
        "import numpy as np\n",
        "import matplotlib.pyplot as plt\n",
        "import seaborn as sns"
      ],
      "execution_count": null,
      "outputs": []
    },
    {
      "cell_type": "code",
      "metadata": {
        "id": "tjgNdY7zPU1g",
        "colab_type": "code",
        "colab": {}
      },
      "source": [
        "import pandas as pd\n",
        "train_data = pd.read_csv('train.csv',encoding='utf-8')\n",
        "test_data = pd.read_csv('test.csv',encoding='utf-8')\n"
      ],
      "execution_count": null,
      "outputs": []
    },
    {
      "cell_type": "code",
      "metadata": {
        "id": "kR3HZtneP1lE",
        "colab_type": "code",
        "colab": {}
      },
      "source": [
        "data = pd.concat([ train_data, test_data], axis = 0)"
      ],
      "execution_count": null,
      "outputs": []
    },
    {
      "cell_type": "code",
      "metadata": {
        "id": "S8J-x9-wQzXS",
        "colab_type": "code",
        "colab": {}
      },
      "source": [
        "y = train_data[\"SalePrice\"]"
      ],
      "execution_count": null,
      "outputs": []
    },
    {
      "cell_type": "code",
      "metadata": {
        "id": "rpamAfFvQ_R7",
        "colab_type": "code",
        "colab": {}
      },
      "source": [
        "#測試畫出價格散佈圖後的偏度\n",
        "%matplotlib inline\n",
        "print('skew:',skew(y))\n",
        "print('lambda',boxcox_normmax(1+y))\n",
        "sns.distplot(y)"
      ],
      "execution_count": null,
      "outputs": []
    },
    {
      "cell_type": "code",
      "metadata": {
        "id": "VgjnhLRYRm9p",
        "colab_type": "code",
        "colab": {}
      },
      "source": [
        "#對y取log作為新的答案\n",
        "%matplotlib inline\n",
        "y_train = np.log1p(y)\n",
        "print('skew:',skew(y_train))\n",
        "sns.distplot(y_train)"
      ],
      "execution_count": null,
      "outputs": []
    },
    {
      "cell_type": "code",
      "metadata": {
        "id": "TXLe-7YJYo_-",
        "colab_type": "code",
        "colab": {}
      },
      "source": [
        "data['Alley'].value_counts()"
      ],
      "execution_count": null,
      "outputs": []
    },
    {
      "cell_type": "code",
      "metadata": {
        "id": "GamBKlXrS_2p",
        "colab_type": "code",
        "colab": {}
      },
      "source": [
        "s = data.isna().sum()\n",
        "s[s>0].sort_values(ascending=False)"
      ],
      "execution_count": null,
      "outputs": []
    },
    {
      "cell_type": "code",
      "metadata": {
        "id": "JzOyYu7nZC72",
        "colab_type": "code",
        "colab": {}
      },
      "source": [
        "data = data.drop(['Id',\"PoolQC\",\"MiscFeature\",\"Alley\",\"Fence\"],axis = 1)"
      ],
      "execution_count": null,
      "outputs": []
    },
    {
      "cell_type": "code",
      "metadata": {
        "id": "C_TgFK6Ja0tv",
        "colab_type": "code",
        "colab": {}
      },
      "source": [
        "data.dtypes.value_counts()"
      ],
      "execution_count": null,
      "outputs": []
    },
    {
      "cell_type": "code",
      "metadata": {
        "id": "ERMA-L2nbK21",
        "colab_type": "code",
        "colab": {}
      },
      "source": [
        "idx = data.dtypes != 'object'\n",
        "number_idx = data.dtypes[idx].index.drop([\"MSSubClass\"])\n",
        "number_idx"
      ],
      "execution_count": null,
      "outputs": []
    },
    {
      "cell_type": "code",
      "metadata": {
        "id": "0JyUAmMQZNCx",
        "colab_type": "code",
        "colab": {}
      },
      "source": [
        "data = pd.get_dummies(data)\n",
        "data = pd.get_dummies(data, columns=['MSSubClass'])\n",
        "data"
      ],
      "execution_count": null,
      "outputs": []
    },
    {
      "cell_type": "code",
      "metadata": {
        "id": "DakjKaZmaOv-",
        "colab_type": "code",
        "colab": {}
      },
      "source": [
        "def get_skew(series):\n",
        "  return skew(series.dropna() +1)\n",
        "skewness = data[number_idx].apply(get_skew).sort_values(ascending = False)\n",
        "need_saved = skewness[skewness >1].index\n",
        "print(need_saved)"
      ],
      "execution_count": null,
      "outputs": []
    },
    {
      "cell_type": "code",
      "metadata": {
        "id": "w-NUHdsIdDvc",
        "colab_type": "code",
        "colab": {}
      },
      "source": [
        "def save(s):\n",
        "  lamda = boxcox_normmax(s.dropna()+1)\n",
        "  return boxcox1p(s,lamda)\n",
        "data[need_saved] = data[need_saved].apply(save)"
      ],
      "execution_count": null,
      "outputs": []
    },
    {
      "cell_type": "code",
      "metadata": {
        "id": "47xvqtnzfBYY",
        "colab_type": "code",
        "colab": {}
      },
      "source": [
        "data = data.fillna(data.median())"
      ],
      "execution_count": null,
      "outputs": []
    },
    {
      "cell_type": "code",
      "metadata": {
        "id": "gnSW25UZvjCm",
        "colab_type": "code",
        "colab": {}
      },
      "source": [
        "from sklearn.preprocessing import RobustScaler\n",
        "scaler = RobustScaler()\n",
        "data = pd.DataFrame(scaler.fit_transform(data))\n",
        "x_train = data.iloc[:len(train_data)]\n",
        "x_predict = data.iloc[len(train_data):]\n",
        "\n"
      ],
      "execution_count": null,
      "outputs": []
    },
    {
      "cell_type": "code",
      "metadata": {
        "id": "XSa6kY9VJWos",
        "colab_type": "code",
        "colab": {}
      },
      "source": [
        "from sklearn.linear_model import LassoCV,RidgeCV,ElasticNetCV\n",
        "from sklearn.linear_model import Lasso,Ridge,ElasticNet\n",
        "\n",
        "cv = RidgeCV(cv=10)\n",
        "cv.fit(x_train, y_train)\n",
        "print(cv.alpha_)\n",
        "model = Ridge(cv.alpha_)\n",
        "model.fit(x_train, y_train)\n",
        "pre = model.predict(x_predict)\n",
        "result = pd.DataFrame({\n",
        "    \"Id\":test_data[\"Id\"],\n",
        "    \"SalePrice\":np.expm1(pre)\n",
        "})\n",
        "result.to_csv(\"submission_ridge.csv\", encoding=\"utf-8\", index=False)\n",
        "result"
      ],
      "execution_count": null,
      "outputs": []
    }
  ]
}