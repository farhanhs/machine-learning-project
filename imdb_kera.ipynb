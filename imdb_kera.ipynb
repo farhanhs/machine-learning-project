{
  "nbformat": 4,
  "nbformat_minor": 0,
  "metadata": {
    "colab": {
      "name": "imdb_kera.ipynb",
      "provenance": [],
      "private_outputs": true,
      "authorship_tag": "ABX9TyMIwlsdF0kjZMtTzHZbGixZ",
      "include_colab_link": true
    },
    "kernelspec": {
      "name": "python3",
      "display_name": "Python 3"
    }
  },
  "cells": [
    {
      "cell_type": "markdown",
      "metadata": {
        "id": "view-in-github",
        "colab_type": "text"
      },
      "source": [
        "<a href=\"https://colab.research.google.com/github/farhanhs/machine-learning-project/blob/master/imdb_kera.ipynb\" target=\"_parent\"><img src=\"https://colab.research.google.com/assets/colab-badge.svg\" alt=\"Open In Colab\"/></a>"
      ]
    },
    {
      "cell_type": "code",
      "metadata": {
        "id": "rcqEEkitxLEQ",
        "colab_type": "code",
        "colab": {}
      },
      "source": [
        "from keras.datasets import imdb\n",
        "from keras.utils import to_categorical\n",
        "import numpy as np\n",
        "(train_data,train_labels),(test_data,test_labels) = imdb.load_data(num_words = 10000)"
      ],
      "execution_count": null,
      "outputs": []
    },
    {
      "cell_type": "code",
      "metadata": {
        "id": "FoY9ropNxvMN",
        "colab_type": "code",
        "colab": {}
      },
      "source": [
        "train_data[0]"
      ],
      "execution_count": null,
      "outputs": []
    },
    {
      "cell_type": "markdown",
      "metadata": {
        "id": "AXEkUVs0zFIb",
        "colab_type": "text"
      },
      "source": [
        "用max(max for sequence)語法在迴圈中把每個評論中最大的字取出，然後再取全部中的最大值 稱為List comprehenions"
      ]
    },
    {
      "cell_type": "code",
      "metadata": {
        "id": "cTBjVaOQx46F",
        "colab_type": "code",
        "colab": {}
      },
      "source": [
        "max([max(sequence) for sequence in train_data])"
      ],
      "execution_count": null,
      "outputs": []
    },
    {
      "cell_type": "code",
      "metadata": {
        "id": "Kb8SFacuy5NJ",
        "colab_type": "code",
        "colab": {}
      },
      "source": [
        "word_index = imdb.get_word_index()\n",
        "reverse_word_index = dict(\n",
        "    [(value,key) for (key,value) in word_index.items()]\n",
        ")\n",
        "decode_review = ' '.join(\n",
        "    [reverse_word_index.get(i-3,'?') for i in train_data[0]]\n",
        ")\n",
        "decode_review"
      ],
      "execution_count": null,
      "outputs": []
    },
    {
      "cell_type": "code",
      "metadata": {
        "id": "9JOs2xpT6ndo",
        "colab_type": "code",
        "colab": {}
      },
      "source": [
        "\n",
        "def vectorize_sequences(sequences,dimension = 10000):\n",
        "  results = np.zeros((len(sequences),dimension))\n",
        "  for i ,sequences in enumerate(sequences):\n",
        "    results[i,sequences] = 1.0\n",
        "  return results\n",
        "x_train = vectorize_sequences(train_data)\n",
        "x_test = vectorize_sequences(test_data)"
      ],
      "execution_count": null,
      "outputs": []
    },
    {
      "cell_type": "code",
      "metadata": {
        "id": "RqxWq2sw8ja5",
        "colab_type": "code",
        "colab": {}
      },
      "source": [
        "y_train = np.asarray(train_labels).astype('float32')\n",
        "y_test = np.asarray(test_labels).astype('float32')"
      ],
      "execution_count": null,
      "outputs": []
    },
    {
      "cell_type": "markdown",
      "metadata": {
        "id": "FjiA2DrMAecK",
        "colab_type": "text"
      },
      "source": [
        "這段式比較kera自身的one-hatencoding方式"
      ]
    },
    {
      "cell_type": "code",
      "metadata": {
        "id": "j4SH1kB39g-W",
        "colab_type": "code",
        "colab": {}
      },
      "source": [
        "#y_train_label_OneHot = to_categorical(train_labels)\n",
        "#y_test_label_OneHot = to_categorical(test_labels)\n",
        "#y_train_label_OneHot"
      ],
      "execution_count": null,
      "outputs": []
    },
    {
      "cell_type": "code",
      "metadata": {
        "id": "CjOdKiH3Ab_T",
        "colab_type": "code",
        "colab": {}
      },
      "source": [
        "from keras import layers\n",
        "from keras import models\n",
        "model = models.Sequential()\n",
        "model.add(layers.Dense(32,activation='relu',input_shape=(10000, )))\n",
        "model.add(layers.Dense(16,activation='relu'))\n",
        "model.add(layers.Dense(1,activation='sigmoid'))"
      ],
      "execution_count": null,
      "outputs": []
    },
    {
      "cell_type": "code",
      "metadata": {
        "id": "vYkoJ5hiHVps",
        "colab_type": "code",
        "colab": {}
      },
      "source": [
        "model.compile(optimizer='rmsprop', loss= 'binary_crossentropy',metrics=['accuracy'])"
      ],
      "execution_count": null,
      "outputs": []
    },
    {
      "cell_type": "code",
      "metadata": {
        "id": "hQJrY4BQHyeH",
        "colab_type": "code",
        "colab": {}
      },
      "source": [
        "from keras import optimizers\n",
        "from keras import losses\n",
        "from keras import metrics\n",
        "model.compile(optimizer = optimizers.RMSprop(lr = 0.001), loss = losses.binary_crossentropy,metrics = [metrics.binary_accuracy])"
      ],
      "execution_count": null,
      "outputs": []
    },
    {
      "cell_type": "code",
      "metadata": {
        "id": "HARWgeHMJ1-i",
        "colab_type": "code",
        "colab": {}
      },
      "source": [
        "x_val = x_train[:10000]\n",
        "partial_x_train = x_train[10000:]\n",
        "y_val = y_train[:10000]\n",
        "partial_y_train = y_train[10000:]"
      ],
      "execution_count": null,
      "outputs": []
    },
    {
      "cell_type": "code",
      "metadata": {
        "id": "tMJX_vR_K2-t",
        "colab_type": "code",
        "colab": {}
      },
      "source": [
        "history = model.fit(partial_x_train,\n",
        "                    partial_y_train,\n",
        "                    epochs = 20,\n",
        "                    batch_size = 512,\n",
        "                    validation_data = (x_val,y_val))"
      ],
      "execution_count": null,
      "outputs": []
    },
    {
      "cell_type": "code",
      "metadata": {
        "id": "pL2eYDNtLm_I",
        "colab_type": "code",
        "colab": {}
      },
      "source": [
        "import matplotlib.pyplot as plt\n",
        "history_dict = history.history\n",
        "loss_values = history_dict['loss']\n",
        "val_loss_values = history_dict['val_loss']\n",
        "epochs = range(1,len(loss_values)+1)\n",
        "\n",
        "plt.plot(epochs,loss_values,'bo',label = 'training loss')\n",
        "plt.plot(epochs,val_loss_values,'b',label = 'validation loss')\n",
        "plt.title('training and validation loss comprehence')\n",
        "plt.xlabel('epochs')\n",
        "plt.ylabel('loss')\n",
        "plt.legend()\n",
        "plt.show()"
      ],
      "execution_count": null,
      "outputs": []
    },
    {
      "cell_type": "code",
      "metadata": {
        "id": "QkHdER9VPLBA",
        "colab_type": "code",
        "colab": {}
      },
      "source": [
        "history_dict"
      ],
      "execution_count": null,
      "outputs": []
    },
    {
      "cell_type": "code",
      "metadata": {
        "id": "46KcMppyR5sJ",
        "colab_type": "code",
        "colab": {}
      },
      "source": [
        "plt.clf()\n",
        "acc = history_dict['binary_accuracy']\n",
        "val_acc = history_dict['val_binary_accuracy']\n",
        "\n",
        "plt.plot(epochs,acc,'bo',label = 'training acc')\n",
        "plt.plot(epochs,val_acc,'b',label = 'validation acc')\n",
        "plt.title('training and validation acc comprehence')\n",
        "plt.xlabel('epochs')\n",
        "plt.ylabel('acc')\n",
        "plt.legend()\n",
        "plt.show()"
      ],
      "execution_count": null,
      "outputs": []
    },
    {
      "cell_type": "code",
      "metadata": {
        "id": "DSm1s8RPTGH_",
        "colab_type": "code",
        "colab": {}
      },
      "source": [
        "model = models.Sequential()\n",
        "model.add(layers.Dense(16,activation='relu',input_shape=(10000, )))\n",
        "model.add(layers.Dense(16,activation='relu'))\n",
        "model.add(layers.Dense(1,activation='sigmoid'))\n",
        "\n",
        "model.compile(optimizer = optimizers.RMSprop(lr = 0.001), loss = losses.binary_crossentropy,metrics = [metrics.binary_accuracy])\n",
        "\n",
        "history = model.fit(partial_x_train,\n",
        "                    partial_y_train,\n",
        "                    epochs = 4,\n",
        "                    batch_size = 512,\n",
        "                    validation_data = (x_val,y_val))\n",
        "results = model.evaluate(x_test,y_test)\n",
        "results"
      ],
      "execution_count": null,
      "outputs": []
    },
    {
      "cell_type": "code",
      "metadata": {
        "id": "uqfoPAachhRP",
        "colab_type": "code",
        "colab": {}
      },
      "source": [
        "model.predict(x_test)\n"
      ],
      "execution_count": null,
      "outputs": []
    }
  ]
}